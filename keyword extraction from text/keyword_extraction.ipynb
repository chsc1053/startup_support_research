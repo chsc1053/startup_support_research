{
 "cells": [
  {
   "cell_type": "code",
   "execution_count": 1,
   "metadata": {},
   "outputs": [],
   "source": [
    "# Sample Title & Text (Abstract)\n",
    "title = \"An Importance of Using Virtualization Technology in Cloud Computing\"\n",
    "text = \"The past few decades have seen many changing trends in distributed computing systems in the form of grid, cloud, utility and cluster. With the advent in technology, there has been an increase in the demand for deployment of a robust distributed network for maximizing the performance of such systems and minimizing the infrastructural cost. In this paper we have discussed various levels at which virtualization can be implemented for distributed computing which can contribute to the increased efficiency and performance of distributed computing.\""
   ]
  },
  {
   "attachments": {},
   "cell_type": "markdown",
   "metadata": {},
   "source": [
    "1. KeyBERT"
   ]
  },
  {
   "cell_type": "code",
   "execution_count": 6,
   "metadata": {},
   "outputs": [
    {
     "name": "stdout",
     "output_type": "stream",
     "text": [
      "Keyword:  distributed computing , Score 0.6487\n",
      "Keyword:  virtualization implemented , Score 0.6468\n",
      "Keyword:  virtualization , Score 0.6334\n",
      "Keyword:  levels virtualization , Score 0.5964\n",
      "Keyword:  grid cloud , Score 0.5326\n"
     ]
    }
   ],
   "source": [
    "# pip install keybert\n",
    "from keybert import KeyBERT\n",
    "\n",
    "model_keybert = KeyBERT(model='all-mpnet-base-v2')\n",
    "\n",
    "keywords = model_keybert.extract_keywords(text,keyphrase_ngram_range=(1, 2), stop_words='english', highlight=False, top_n=5)\n",
    "\n",
    "for kw, s in keywords:\n",
    "  print(\"Keyword: \",kw, \", Score\", s)"
   ]
  },
  {
   "attachments": {},
   "cell_type": "markdown",
   "metadata": {},
   "source": [
    "2. Rapid Automatic Keyword Extraction (RAKE)"
   ]
  },
  {
   "cell_type": "code",
   "execution_count": 3,
   "metadata": {},
   "outputs": [],
   "source": [
    "# pip install multi_rake\n",
    "# from multi_rake import Rake\n",
    "# model_rake = Rake()\n",
    "# keywords = model_rake.apply(text)\n",
    "# print(keywords[:10])"
   ]
  },
  {
   "attachments": {},
   "cell_type": "markdown",
   "metadata": {},
   "source": [
    "3. YAKE"
   ]
  },
  {
   "cell_type": "code",
   "execution_count": 4,
   "metadata": {},
   "outputs": [
    {
     "name": "stdout",
     "output_type": "stream",
     "text": [
      "Keyword:  utility and cluster , Score 0.015583732582705545\n",
      "Keyword:  form of grid , Score 0.0191621476358869\n",
      "Keyword:  distributed computing systems , Score 0.020036360637023316\n",
      "Keyword:  past few decades , Score 0.02358133565825394\n",
      "Keyword:  changing trends , Score 0.02358133565825394\n"
     ]
    }
   ],
   "source": [
    "# pip install git+https://github.com/LIAAD/yake\n",
    "import yake\n",
    "\n",
    "model_yake = yake.KeywordExtractor(top=5, stopwords=None)\n",
    "keywords = model_yake.extract_keywords(text)\n",
    "for kw, s in keywords:\n",
    "  print(\"Keyword: \",kw, \", Score\", s)"
   ]
  },
  {
   "attachments": {},
   "cell_type": "markdown",
   "metadata": {},
   "source": [
    "4. PKE"
   ]
  },
  {
   "cell_type": "code",
   "execution_count": 5,
   "metadata": {},
   "outputs": [
    {
     "name": "stdout",
     "output_type": "stream",
     "text": [
      "Keyword:  computing systems , Score 0.08890515296435779\n",
      "Keyword:  performance , Score 0.07241923429281419\n",
      "Keyword:  cloud , Score 0.061749581996090555\n",
      "Keyword:  utility , Score 0.061228499575187195\n",
      "Keyword:  grid , Score 0.060025590579581026\n"
     ]
    }
   ],
   "source": [
    "# pip install git+https://github.com/boudinfl/pke.git\n",
    "import pke\n",
    "\n",
    "model_pke = pke.unsupervised.TopicRank()\n",
    "\n",
    "model_pke.load_document(input=text, language='en')\n",
    "\n",
    "model_pke.candidate_selection()\n",
    "\n",
    "model_pke.candidate_weighting()\n",
    "\n",
    "keywords = model_pke.get_n_best(n=5)\n",
    "for kw, s in keywords:\n",
    "  print(\"Keyword: \",kw, \", Score\", s)"
   ]
  }
 ],
 "metadata": {
  "kernelspec": {
   "display_name": "Python 3",
   "language": "python",
   "name": "python3"
  },
  "language_info": {
   "codemirror_mode": {
    "name": "ipython",
    "version": 3
   },
   "file_extension": ".py",
   "mimetype": "text/x-python",
   "name": "python",
   "nbconvert_exporter": "python",
   "pygments_lexer": "ipython3",
   "version": "3.11.1"
  },
  "orig_nbformat": 4
 },
 "nbformat": 4,
 "nbformat_minor": 2
}
