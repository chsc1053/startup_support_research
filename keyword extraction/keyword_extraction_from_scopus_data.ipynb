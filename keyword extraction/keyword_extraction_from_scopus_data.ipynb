{
 "cells": [
  {
   "cell_type": "code",
   "execution_count": 1,
   "metadata": {
    "ExecuteTime": {
     "end_time": "2023-05-28T08:52:27.962179300Z",
     "start_time": "2023-05-28T08:52:22.512131900Z"
    }
   },
   "outputs": [],
   "source": [
    "import openai\n",
    "openai.api_key = \"sk-\""
   ]
  },
  {
   "cell_type": "code",
   "execution_count": 2,
   "metadata": {
    "ExecuteTime": {
     "end_time": "2023-05-28T08:52:31.367888200Z",
     "start_time": "2023-05-28T08:52:27.976447600Z"
    }
   },
   "outputs": [
    {
     "name": "stdout",
     "output_type": "stream",
     "text": [
      "['machine learning', 'sentiment analysis', 'text analysis', 'wildlife tourism', 'facial recognition', 'transitional care', 'empowerment', 'decision-making']\n"
     ]
    }
   ],
   "source": [
    "import csv\n",
    "\n",
    "file_name = \"scopus_sample_data.csv\"\n",
    "\n",
    "system_intel = \"You are a keyword extraction tool. You will be given the title, abstract, and author's keywords for a research/journal paper. Your job is to find out the most appropriate keywords by analyzing the given information. The selected keywords MUST only be 'technological'. Your response may contain 0 to 3 keywords but DO NOT INCLUDE ANY NON-TECHNOLOGICAL KEYWORDS. Your response to me should only contain the keywords in lowercase separated by ',' without any extra words, spaces, or dots.\"\n",
    "\n",
    "all_keywords = []\n",
    "\n",
    "with open(file_name) as file:\n",
    "    reader = csv.DictReader(file)\n",
    "    for row in reader:\n",
    "        title = row['Titles']\n",
    "        abstract = row['Abstract']\n",
    "        author_keywords = row[\"Author Keywords\"]\n",
    "        prompt = \"\\nTitle:\" + title + \"\\nAbstract: \" + abstract + \"\\nAuthor's Keywords: \" + author_keywords\n",
    "        \n",
    "        result = openai.ChatCompletion.create(\n",
    "            model=\"gpt-3.5-turbo\",\n",
    "            messages=[\n",
    "                {\"role\": \"system\", \"content\": system_intel},\n",
    "                {\"role\": \"user\", \"content\": prompt},\n",
    "            ],\n",
    "        )\n",
    "        response = result[\"choices\"][0][\"message\"][\"content\"]\n",
    "        keywords = response.split(', ')\n",
    "        for keyword in keywords:\n",
    "            all_keywords.append(keyword)\n",
    "        # print('Title:', title, '\\nAbstract:', abstract, '\\nAuthor\\'s Keywords:', author_keywords, '\\nKeywords:', keywords, '\\n')\n",
    "    \n",
    "print(all_keywords)"
   ]
  },
  {
   "cell_type": "code",
   "execution_count": 4,
   "metadata": {
    "ExecuteTime": {
     "end_time": "2023-05-28T09:06:08.863676100Z",
     "start_time": "2023-05-28T09:06:07.944275Z"
    }
   },
   "outputs": [
    {
     "name": "stdout",
     "output_type": "stream",
     "text": [
      "['machine learning', 'sentiment analysis', 'text analysis', 'facial recognition']\n"
     ]
    }
   ],
   "source": [
    "system_intel = \"You are an NLP model. You will be given a list of keywords. The list may contain some unwanted sentences and keywords. Your job is to DISCARD ANY NON-TECHNOLOGICAL KEYWORDS,  KEYWORDS WHICH DO NOT CONTAIN A NOUN AND UNWANTED SENTENCES (IF ANY) FROM THE LIST. Your response should STRICTLY FOLLOW the below conditions: 1. Return the processed list with only TECHNOLOGY RELATED KEYWORDS separated by comma. 2. Your response MUST NOT CONTAIN NOTES, REASONS OR ANY OTHER WORDS OTHER THAN THE KEYWORDS.\"\n",
    "\n",
    "# keywords__ = ['Artificial Intelligence', 'Machine Learning', 'Wildlife Tourism', 'Donut', 'Headphones', 'Cloud Computing']\n",
    "\n",
    "messages=[{\"role\": \"system\", \"content\": system_intel},{\"role\": \"user\", \"content\": \"Keywords : \"+str(all_keywords)}]\n",
    "\n",
    "result = openai.ChatCompletion.create(\n",
    "    model=\"gpt-3.5-turbo\",\n",
    "    messages= messages,\n",
    ")\n",
    "response = result[\"choices\"][0][\"message\"][\"content\"]\n",
    "\n",
    "if(\", \" in response):\n",
    "    keywords__ = response.strip().split(\", \")\n",
    "else:\n",
    "    keywords__ = response.strip().split(\",\")\n",
    "\n",
    "print(keywords__)"
   ]
  }
 ],
 "metadata": {
  "kernelspec": {
   "display_name": "Python 3",
   "language": "python",
   "name": "python3"
  },
  "language_info": {
   "codemirror_mode": {
    "name": "ipython",
    "version": 3
   },
   "file_extension": ".py",
   "mimetype": "text/x-python",
   "name": "python",
   "nbconvert_exporter": "python",
   "pygments_lexer": "ipython3",
   "version": "3.11.1"
  },
  "orig_nbformat": 4
 },
 "nbformat": 4,
 "nbformat_minor": 2
}
