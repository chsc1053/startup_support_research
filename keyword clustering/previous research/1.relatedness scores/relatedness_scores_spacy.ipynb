{
 "cells": [
  {
   "cell_type": "code",
   "execution_count": 2,
   "metadata": {},
   "outputs": [
    {
     "name": "stdout",
     "output_type": "stream",
     "text": [
      "' Artificial Intelligence ' & ' Artificial Intelligence ' ->  1.0\n",
      "' Artificial Intelligence ' & ' Machine Learning ' ->  0.6844060767547822\n",
      "' Artificial Intelligence ' & ' Wildlife Tourism ' ->  0.41298001621965846\n",
      "' Artificial Intelligence ' & ' Donut ' ->  0.0738995811116105\n",
      "' Artificial Intelligence ' & ' Headphones ' ->  0.26690738003298964\n",
      "' Artificial Intelligence ' & ' Cloud Computing ' ->  0.6796161419641752\n",
      "' Machine Learning ' & ' Artificial Intelligence ' ->  0.6844060767547822\n",
      "' Machine Learning ' & ' Machine Learning ' ->  1.0\n",
      "' Machine Learning ' & ' Wildlife Tourism ' ->  0.3339075169749441\n",
      "' Machine Learning ' & ' Donut ' ->  0.18672661080937272\n",
      "' Machine Learning ' & ' Headphones ' ->  0.364884912809249\n",
      "' Machine Learning ' & ' Cloud Computing ' ->  0.7161214210514528\n",
      "' Wildlife Tourism ' & ' Artificial Intelligence ' ->  0.41298001621965846\n",
      "' Wildlife Tourism ' & ' Machine Learning ' ->  0.3339075169749441\n",
      "' Wildlife Tourism ' & ' Wildlife Tourism ' ->  1.0\n",
      "' Wildlife Tourism ' & ' Donut ' ->  0.05061642821294221\n",
      "' Wildlife Tourism ' & ' Headphones ' ->  0.15119019460396033\n",
      "' Wildlife Tourism ' & ' Cloud Computing ' ->  0.32887841961837216\n",
      "' Donut ' & ' Artificial Intelligence ' ->  0.0738995811116105\n",
      "' Donut ' & ' Machine Learning ' ->  0.18672661080937272\n",
      "' Donut ' & ' Wildlife Tourism ' ->  0.05061642821294221\n",
      "' Donut ' & ' Donut ' ->  1.0\n",
      "' Donut ' & ' Headphones ' ->  0.11335742897093086\n",
      "' Donut ' & ' Cloud Computing ' ->  0.07321184281977444\n",
      "' Headphones ' & ' Artificial Intelligence ' ->  0.26690738003298964\n",
      "' Headphones ' & ' Machine Learning ' ->  0.364884912809249\n",
      "' Headphones ' & ' Wildlife Tourism ' ->  0.15119019460396033\n",
      "' Headphones ' & ' Donut ' ->  0.11335742897093086\n",
      "' Headphones ' & ' Headphones ' ->  1.0\n",
      "' Headphones ' & ' Cloud Computing ' ->  0.3409092632127592\n",
      "' Cloud Computing ' & ' Artificial Intelligence ' ->  0.6796161419641752\n",
      "' Cloud Computing ' & ' Machine Learning ' ->  0.7161214210514528\n",
      "' Cloud Computing ' & ' Wildlife Tourism ' ->  0.32887841961837216\n",
      "' Cloud Computing ' & ' Donut ' ->  0.07321184281977444\n",
      "' Cloud Computing ' & ' Headphones ' ->  0.3409092632127592\n",
      "' Cloud Computing ' & ' Cloud Computing ' ->  1.0\n"
     ]
    }
   ],
   "source": [
    "import spacy\n",
    "\n",
    "# Load pre-trained word embeddings (e.g., 'en_core_web_lg')\n",
    "nlp = spacy.load('en_core_web_lg')\n",
    "\n",
    "def get_relatedness_score(keyword1, keyword2):\n",
    "    # Apply word embeddings to the keywords\n",
    "    token1 = nlp(keyword1)\n",
    "    token2 = nlp(keyword2)\n",
    "\n",
    "    # Calculate cosine similarity between the word vectors\n",
    "    relatedness_score = token1.similarity(token2)\n",
    "\n",
    "    return relatedness_score\n",
    "\n",
    "l = [ 'Artificial Intelligence', 'Machine Learning', 'Wildlife Tourism', 'Donut', 'Headphones', 'Cloud Computing']\n",
    "for i in l:\n",
    "    for j in l:\n",
    "        print(\"\\'\",i,\"\\' & \\'\",j,\"\\' -> \",get_relatedness_score(i,j))"
   ]
  }
 ],
 "metadata": {
  "kernelspec": {
   "display_name": "Python 3",
   "language": "python",
   "name": "python3"
  },
  "language_info": {
   "codemirror_mode": {
    "name": "ipython",
    "version": 3
   },
   "file_extension": ".py",
   "mimetype": "text/x-python",
   "name": "python",
   "nbconvert_exporter": "python",
   "pygments_lexer": "ipython3",
   "version": "3.11.1"
  },
  "orig_nbformat": 4
 },
 "nbformat": 4,
 "nbformat_minor": 2
}
